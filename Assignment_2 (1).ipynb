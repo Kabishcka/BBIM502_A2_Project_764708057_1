{
 "cells": [
  {
   "cell_type": "markdown",
   "id": "57f04c01-eb8f-402b-8b37-532b59c4724c",
   "metadata": {},
   "source": [
    "# Code"
   ]
  },
  {
   "cell_type": "code",
   "execution_count": 6,
   "id": "a8004970-23db-48e0-8a1c-2010cf0d94d8",
   "metadata": {},
   "outputs": [
    {
     "name": "stdout",
     "output_type": "stream",
     "text": [
      "\n",
      "Hotel Management System Menu\n",
      "1. Add Room\n",
      "2. Delete Room\n",
      "3. Display Room Details\n",
      "4. Allocate Room\n",
      "5. Display Room Allocation Details\n",
      "6. Billing and De-allocation\n",
      "7. Save Room Allocations to File\n",
      "8. Show Room Allocations from File\n",
      "9. Backup Room Allocations File\n",
      "0. Exit Application\n"
     ]
    },
    {
     "name": "stdin",
     "output_type": "stream",
     "text": [
      "Enter your choice:  1\n",
      "Enter room ID:  101\n",
      "Enter room type(single/double/suite):  single\n",
      "Enter room price:  150\n"
     ]
    },
    {
     "name": "stdout",
     "output_type": "stream",
     "text": [
      "Room added successfully\n",
      "\n",
      "Hotel Management System Menu\n",
      "1. Add Room\n",
      "2. Delete Room\n",
      "3. Display Room Details\n",
      "4. Allocate Room\n",
      "5. Display Room Allocation Details\n",
      "6. Billing and De-allocation\n",
      "7. Save Room Allocations to File\n",
      "8. Show Room Allocations from File\n",
      "9. Backup Room Allocations File\n",
      "0. Exit Application\n"
     ]
    },
    {
     "name": "stdin",
     "output_type": "stream",
     "text": [
      "Enter your choice:  1\n",
      "Enter room ID:  102\n",
      "Enter room type(single/double/suite):  double\n",
      "Enter room price:  250\n"
     ]
    },
    {
     "name": "stdout",
     "output_type": "stream",
     "text": [
      "Room added successfully\n",
      "\n",
      "Hotel Management System Menu\n",
      "1. Add Room\n",
      "2. Delete Room\n",
      "3. Display Room Details\n",
      "4. Allocate Room\n",
      "5. Display Room Allocation Details\n",
      "6. Billing and De-allocation\n",
      "7. Save Room Allocations to File\n",
      "8. Show Room Allocations from File\n",
      "9. Backup Room Allocations File\n",
      "0. Exit Application\n"
     ]
    },
    {
     "name": "stdin",
     "output_type": "stream",
     "text": [
      "Enter your choice:  1\n",
      "Enter room ID:  103\n",
      "Enter room type(single/double/suite):  suite\n",
      "Enter room price:  400\n"
     ]
    },
    {
     "name": "stdout",
     "output_type": "stream",
     "text": [
      "Room added successfully\n",
      "\n",
      "Hotel Management System Menu\n",
      "1. Add Room\n",
      "2. Delete Room\n",
      "3. Display Room Details\n",
      "4. Allocate Room\n",
      "5. Display Room Allocation Details\n",
      "6. Billing and De-allocation\n",
      "7. Save Room Allocations to File\n",
      "8. Show Room Allocations from File\n",
      "9. Backup Room Allocations File\n",
      "0. Exit Application\n"
     ]
    },
    {
     "name": "stdin",
     "output_type": "stream",
     "text": [
      "Enter your choice:  1\n",
      "Enter room ID:  104\n",
      "Enter room type(single/double/suite):  single\n",
      "Enter room price:  180\n"
     ]
    },
    {
     "name": "stdout",
     "output_type": "stream",
     "text": [
      "Room added successfully\n",
      "\n",
      "Hotel Management System Menu\n",
      "1. Add Room\n",
      "2. Delete Room\n",
      "3. Display Room Details\n",
      "4. Allocate Room\n",
      "5. Display Room Allocation Details\n",
      "6. Billing and De-allocation\n",
      "7. Save Room Allocations to File\n",
      "8. Show Room Allocations from File\n",
      "9. Backup Room Allocations File\n",
      "0. Exit Application\n"
     ]
    },
    {
     "name": "stdin",
     "output_type": "stream",
     "text": [
      "Enter your choice:  3\n"
     ]
    },
    {
     "name": "stdout",
     "output_type": "stream",
     "text": [
      "Room ID: 101, Type: single, Price: 150.0\n",
      "Room ID: 102, Type: double, Price: 250.0\n",
      "Room ID: 103, Type: suite, Price: 400.0\n",
      "Room ID: 104, Type: single, Price: 180.0\n",
      "\n",
      "Hotel Management System Menu\n",
      "1. Add Room\n",
      "2. Delete Room\n",
      "3. Display Room Details\n",
      "4. Allocate Room\n",
      "5. Display Room Allocation Details\n",
      "6. Billing and De-allocation\n",
      "7. Save Room Allocations to File\n",
      "8. Show Room Allocations from File\n",
      "9. Backup Room Allocations File\n",
      "0. Exit Application\n"
     ]
    },
    {
     "name": "stdin",
     "output_type": "stream",
     "text": [
      "Enter your choice:  2\n",
      "Enter room ID to delete 104\n"
     ]
    },
    {
     "name": "stdout",
     "output_type": "stream",
     "text": [
      "Room deleted successfully\n",
      "\n",
      "Hotel Management System Menu\n",
      "1. Add Room\n",
      "2. Delete Room\n",
      "3. Display Room Details\n",
      "4. Allocate Room\n",
      "5. Display Room Allocation Details\n",
      "6. Billing and De-allocation\n",
      "7. Save Room Allocations to File\n",
      "8. Show Room Allocations from File\n",
      "9. Backup Room Allocations File\n",
      "0. Exit Application\n"
     ]
    },
    {
     "name": "stdin",
     "output_type": "stream",
     "text": [
      "Enter your choice:  3\n"
     ]
    },
    {
     "name": "stdout",
     "output_type": "stream",
     "text": [
      "Room ID: 101, Type: single, Price: 150.0\n",
      "Room ID: 102, Type: double, Price: 250.0\n",
      "Room ID: 103, Type: suite, Price: 400.0\n",
      "\n",
      "Hotel Management System Menu\n",
      "1. Add Room\n",
      "2. Delete Room\n",
      "3. Display Room Details\n",
      "4. Allocate Room\n",
      "5. Display Room Allocation Details\n",
      "6. Billing and De-allocation\n",
      "7. Save Room Allocations to File\n",
      "8. Show Room Allocations from File\n",
      "9. Backup Room Allocations File\n",
      "0. Exit Application\n"
     ]
    },
    {
     "name": "stdin",
     "output_type": "stream",
     "text": [
      "Enter your choice:  4\n",
      "Enter room ID to allocate:  101\n",
      "Enter customer name:  brooke\n",
      "Enter check-in date (YYYY-MM-DD):  2024-07-15\n"
     ]
    },
    {
     "name": "stdout",
     "output_type": "stream",
     "text": [
      "Room allocated successfully\n",
      "\n",
      "Hotel Management System Menu\n",
      "1. Add Room\n",
      "2. Delete Room\n",
      "3. Display Room Details\n",
      "4. Allocate Room\n",
      "5. Display Room Allocation Details\n",
      "6. Billing and De-allocation\n",
      "7. Save Room Allocations to File\n",
      "8. Show Room Allocations from File\n",
      "9. Backup Room Allocations File\n",
      "0. Exit Application\n"
     ]
    },
    {
     "name": "stdin",
     "output_type": "stream",
     "text": [
      "Enter your choice:  4\n",
      "Enter room ID to allocate:  102\n",
      "Enter customer name:  amy\n",
      "Enter check-in date (YYYY-MM-DD):  2024-07-18\n"
     ]
    },
    {
     "name": "stdout",
     "output_type": "stream",
     "text": [
      "Room allocated successfully\n",
      "\n",
      "Hotel Management System Menu\n",
      "1. Add Room\n",
      "2. Delete Room\n",
      "3. Display Room Details\n",
      "4. Allocate Room\n",
      "5. Display Room Allocation Details\n",
      "6. Billing and De-allocation\n",
      "7. Save Room Allocations to File\n",
      "8. Show Room Allocations from File\n",
      "9. Backup Room Allocations File\n",
      "0. Exit Application\n"
     ]
    },
    {
     "name": "stdin",
     "output_type": "stream",
     "text": [
      "Enter your choice:  4\n",
      "Enter room ID to allocate:  103\n",
      "Enter customer name:  kabi\n",
      "Enter check-in date (YYYY-MM-DD):  2024-07-21\n"
     ]
    },
    {
     "name": "stdout",
     "output_type": "stream",
     "text": [
      "Room allocated successfully\n",
      "\n",
      "Hotel Management System Menu\n",
      "1. Add Room\n",
      "2. Delete Room\n",
      "3. Display Room Details\n",
      "4. Allocate Room\n",
      "5. Display Room Allocation Details\n",
      "6. Billing and De-allocation\n",
      "7. Save Room Allocations to File\n",
      "8. Show Room Allocations from File\n",
      "9. Backup Room Allocations File\n",
      "0. Exit Application\n"
     ]
    },
    {
     "name": "stdin",
     "output_type": "stream",
     "text": [
      "Enter your choice:  5\n"
     ]
    },
    {
     "name": "stdout",
     "output_type": "stream",
     "text": [
      " Room ID: 101, Customer Name: brooke\n",
      " Room ID: 102, Customer Name: amy\n",
      " Room ID: 103, Customer Name: kabi\n",
      "\n",
      "Hotel Management System Menu\n",
      "1. Add Room\n",
      "2. Delete Room\n",
      "3. Display Room Details\n",
      "4. Allocate Room\n",
      "5. Display Room Allocation Details\n",
      "6. Billing and De-allocation\n",
      "7. Save Room Allocations to File\n",
      "8. Show Room Allocations from File\n",
      "9. Backup Room Allocations File\n",
      "0. Exit Application\n"
     ]
    },
    {
     "name": "stdin",
     "output_type": "stream",
     "text": [
      "Enter your choice:  6\n",
      "Enter room ID to de-allocate:  101\n",
      "Enter check-out date (YYYY-MM-DD):  2024-07-25\n"
     ]
    },
    {
     "name": "stdout",
     "output_type": "stream",
     "text": [
      "Billing Details: \n",
      "Customer Name: brooke\n",
      "Room ID: 101\n",
      "Check-in Date: 2024-07-15\n",
      "Check-out Date: 2024-07-25\n",
      "Total Stay Duration: 10 days\n",
      "Total Cost: $1500.00\n",
      "Room de-allocated and billing done successfully\n",
      "\n",
      "Hotel Management System Menu\n",
      "1. Add Room\n",
      "2. Delete Room\n",
      "3. Display Room Details\n",
      "4. Allocate Room\n",
      "5. Display Room Allocation Details\n",
      "6. Billing and De-allocation\n",
      "7. Save Room Allocations to File\n",
      "8. Show Room Allocations from File\n",
      "9. Backup Room Allocations File\n",
      "0. Exit Application\n"
     ]
    },
    {
     "name": "stdin",
     "output_type": "stream",
     "text": [
      "Enter your choice:  5\n"
     ]
    },
    {
     "name": "stdout",
     "output_type": "stream",
     "text": [
      " Room ID: 102, Customer Name: amy\n",
      " Room ID: 103, Customer Name: kabi\n",
      "\n",
      "Hotel Management System Menu\n",
      "1. Add Room\n",
      "2. Delete Room\n",
      "3. Display Room Details\n",
      "4. Allocate Room\n",
      "5. Display Room Allocation Details\n",
      "6. Billing and De-allocation\n",
      "7. Save Room Allocations to File\n",
      "8. Show Room Allocations from File\n",
      "9. Backup Room Allocations File\n",
      "0. Exit Application\n"
     ]
    },
    {
     "name": "stdin",
     "output_type": "stream",
     "text": [
      "Enter your choice:  7\n"
     ]
    },
    {
     "name": "stdout",
     "output_type": "stream",
     "text": [
      "Room allocations saved to file successfully\n",
      "\n",
      "Hotel Management System Menu\n",
      "1. Add Room\n",
      "2. Delete Room\n",
      "3. Display Room Details\n",
      "4. Allocate Room\n",
      "5. Display Room Allocation Details\n",
      "6. Billing and De-allocation\n",
      "7. Save Room Allocations to File\n",
      "8. Show Room Allocations from File\n",
      "9. Backup Room Allocations File\n",
      "0. Exit Application\n"
     ]
    },
    {
     "name": "stdin",
     "output_type": "stream",
     "text": [
      "Enter your choice:  8\n"
     ]
    },
    {
     "name": "stdout",
     "output_type": "stream",
     "text": [
      "Room ID: 102, Customer Name: amy, Check-in Date: 2024-07-18\n",
      "Room ID: 103, Customer Name: kabi, Check-in Date: 2024-07-21\n",
      "\n",
      "Hotel Management System Menu\n",
      "1. Add Room\n",
      "2. Delete Room\n",
      "3. Display Room Details\n",
      "4. Allocate Room\n",
      "5. Display Room Allocation Details\n",
      "6. Billing and De-allocation\n",
      "7. Save Room Allocations to File\n",
      "8. Show Room Allocations from File\n",
      "9. Backup Room Allocations File\n",
      "0. Exit Application\n"
     ]
    },
    {
     "name": "stdin",
     "output_type": "stream",
     "text": [
      "Enter your choice:  9\n"
     ]
    },
    {
     "name": "stdout",
     "output_type": "stream",
     "text": [
      " Room allocations backed up to LHMS_Studentid_Backup_20240711_185525.txt and original file cleared\n",
      "\n",
      "Hotel Management System Menu\n",
      "1. Add Room\n",
      "2. Delete Room\n",
      "3. Display Room Details\n",
      "4. Allocate Room\n",
      "5. Display Room Allocation Details\n",
      "6. Billing and De-allocation\n",
      "7. Save Room Allocations to File\n",
      "8. Show Room Allocations from File\n",
      "9. Backup Room Allocations File\n",
      "0. Exit Application\n"
     ]
    },
    {
     "name": "stdin",
     "output_type": "stream",
     "text": [
      "Enter your choice:  0\n"
     ]
    },
    {
     "name": "stdout",
     "output_type": "stream",
     "text": [
      "Exiting application\n"
     ]
    }
   ],
   "source": [
    "#Hotel management system for room allocation, billing, and record management\n",
    "\n",
    "#importing the important modules\n",
    "from datetime import datetime\n",
    "\n",
    "#Function to add a room to the list rooms\n",
    "def add_room(rooms):\n",
    "    try:\n",
    "        room_id = input(\"Enter room ID: \") #input room ID\n",
    "        room_type = input(\"Enter room type(single/double/suite): \") #input room type\n",
    "        price = input(\"Enter room price: \") #input room price\n",
    "        if not room_id or not room_type or not price: #checking if any of the field is empty\n",
    "            raise ValueError(\"All fields are required\")\n",
    "        if not price.isdigit(): #check whether the price entered is in  numbers\n",
    "            raise ValueError(\"Price must be a number\")\n",
    "        rooms.append ({\n",
    "            \"room_id\" : room_id,\n",
    "            \"room_type\" : room_type,\n",
    "            \"price\" : float(price)\n",
    "        })\n",
    "        print(\"Room added successfully\")\n",
    "    except ValueError as e: #handle value errors\n",
    "        print (f\"Error: {e}\")\n",
    "    except SyntaxError as e: #handle syntax errors\n",
    "        print(f\"Syntax Error: {e}\")\n",
    "\n",
    "#Function to delete a room from the list of rooms\n",
    "def delete_room(rooms):\n",
    "    try:\n",
    "        room_id = input(\"Enter room ID to delete\") #input room ID to delete\n",
    "        if not room_id: #check if the field is empty\n",
    "            raise ValueError(\"Room ID is required\")\n",
    "        for room in rooms:\n",
    "            if room[\"room_id\"] == room_id: #check if the room ID exists\n",
    "                rooms.remove(room)\n",
    "                print(\"Room deleted successfully\")\n",
    "                return\n",
    "        raise KeyError (\"Room not found\")\n",
    "    except ValueError as e: #handle value errors\n",
    "        print(f\"Error: {e}\")\n",
    "    except KeyError as e: #handle key errors\n",
    "        print(f\"Error: {e}\")\n",
    "    except NameError as e: #handle name errors\n",
    "        print(f\"Name Error: {e}\")\n",
    "\n",
    "#Function to display details of the rooms        \n",
    "def display_rooms(rooms):\n",
    "    try:\n",
    "        if not rooms: #check if the rooms list is empty\n",
    "            raise IndexError (\"No rooms available\")\n",
    "        for room in rooms:\n",
    "            print(f\"Room ID: {room['room_id']}, Type: {room['room_type']}, Price: {room['price']}\")\n",
    "    except IndexError as e: #handle index errors\n",
    "        print(f\"Error: {e}\")\n",
    "\n",
    "#Function to allocate a room to a customer\n",
    "def allocate_room(rooms, allocations):\n",
    "    try:\n",
    "        room_id = input(\"Enter room ID to allocate: \") #input room id to allocate\n",
    "        customer_name = input(\"Enter customer name: \") #input customer name to allocate\n",
    "        check_in_date = input(\"Enter check-in date (YYYY-MM-DD): \") #input the check-in date \n",
    "        if not room_id or not customer_name or not check_in_date: #check for empty fields\n",
    "            raise ValueError(\"All fields are required\")\n",
    "        for room in rooms:\n",
    "            if room[\"room_id\"] == room_id: #check if the room id exists\n",
    "                for allocation in allocations:\n",
    "                    if allocation[\"room_id\"] == room_id: #check if the room is already allocated\n",
    "                        raise ValueError(\"Room already allocated\")\n",
    "                allocations.append ({\n",
    "                    \"room_id\": room_id,\n",
    "                    \"customer_name\": customer_name,\n",
    "                    \"check_in_date\": check_in_date\n",
    "                })\n",
    "                print(\"Room allocated successfully\")\n",
    "                return\n",
    "        raise KeyError(\"Room not found\")\n",
    "    except ValueError as e: #handle value errors\n",
    "        print (f\"Error: {e}\")\n",
    "    except KeyError as e: #handle key errors\n",
    "        print (f\"Error: {e}\")\n",
    "    except SyntaxError as e: #handle syntax errors\n",
    "        print (f\"Error : {e}\")\n",
    "        \n",
    "#Function to display the details of the allocations\n",
    "def display_allocation(allocations):\n",
    "    try:\n",
    "        if not allocations: #check if the allocations list is empty\n",
    "            raise IndexError(\"No room allocations available\")\n",
    "        for allocation in allocations:\n",
    "            print(f\" Room ID: {allocation['room_id']}, Customer Name: {allocation['customer_name']}\")\n",
    "    except IndexError as e: #handle index errors\n",
    "        print(f\"Error: {e}\")\n",
    "\n",
    "#Function to de-allocate rooms and bill\n",
    "def bill_and_deallocate_room(allocations, rooms):\n",
    "    try:\n",
    "        room_id = input(\"Enter room ID to de-allocate: \") #input for room ID to deallocate\n",
    "        check_out_date = input(\"Enter check-out date (YYYY-MM-DD): \") #input for check-out date\n",
    "        if not room_id or not check_out_date: #check if any field is empty\n",
    "            raise ValueError(\"Room ID and Check-out date are required\")\n",
    "        for allocation in allocations:\n",
    "            if allocation[\"room_id\"] == room_id: #check if room id exists in allocations\n",
    "                check_in_date = datetime.strptime(allocation[\"check_in_date\"], \"%Y-%m-%d\")\n",
    "                check_out_date = datetime.strptime(check_out_date, \"%Y-%m-%d\")\n",
    "                duration = (check_out_date - check_in_date).days #calculate the duration the customer stayed\n",
    "                for room in rooms:\n",
    "                    if room[\"room_id\"] == room_id: #check if room id exists in rooms\n",
    "                        total_cost = duration * float(room[\"price\"]) #calculate the total cost\n",
    "                        print(f\"Billing Details: \\nCustomer Name: {allocation['customer_name']}\\nRoom ID: {room_id}\\nCheck-in Date: {allocation['check_in_date']}\\nCheck-out Date: {check_out_date.strftime('%Y-%m-%d')}\\nTotal Stay Duration: {duration} days\\nTotal Cost: ${total_cost:.2f}\")\n",
    "                        allocations.remove(allocation) #removing room allocation from allocations\n",
    "                        print(\"Room de-allocated and billing done successfully\")\n",
    "                        return\n",
    "        raise KeyError(\"Room not found\")\n",
    "    except ValueError as e: #handle value errors\n",
    "        print(f\"Error: {e}\") \n",
    "    except KeyError as e: #handle key errors\n",
    "        print(f\"Error: {e}\")\n",
    "    except OverflowError as e: #handle overflow errors\n",
    "        print(f\"Error: {e}\") \n",
    "    except IndexError as e: #handle index errors\n",
    "        print(f\"Error: {e}\")\n",
    "\n",
    "#Function to save room allocation to a file \n",
    "def save_allocation_to_file(filename, allocations):\n",
    "    try:\n",
    "        with open (filename, 'w') as file: #opening file in write mode\n",
    "            for allocation in allocations:\n",
    "                file.write(f\"{allocation['room_id']},{allocation['customer_name']},{allocation['check_in_date']}\\n\")\n",
    "        print(\"Room allocations saved to file successfully\")\n",
    "    except IOError as e: #handle I/O errors\n",
    "        print(f\"Error: {e}\")\n",
    "\n",
    "#Function to show room allocations from the saved file \n",
    "def show_allocation_from_file(filename):\n",
    "    try:\n",
    "        with open (filename, 'r') as file: #open file in read mode\n",
    "            records = file.readlines()\n",
    "        if not records: #check if file is empty\n",
    "            raise LookupError (\"No room allocation available in the file\")\n",
    "        for record in records: \n",
    "            room_id, customer_name, check_in_date = record.strip().split(\",\")\n",
    "            print(f\"Room ID: {room_id}, Customer Name: {customer_name}, Check-in Date: {check_in_date}\")\n",
    "    except FileNotFoundError: #handle file not found error\n",
    "        print(\"File not found. Save room allocations first\")\n",
    "    except LookupError as e: #handle lookup errors\n",
    "        print(f\"Error: {e}\")\n",
    "    except IOError as e: #handle I/O errors\n",
    "        print(f\"Error: {e}\")\n",
    "\n",
    "#Function to backup room allocations file\n",
    "def backup_allocations_file(filename):\n",
    "    try:\n",
    "        #create a backup filename with timestarp\n",
    "        backup_filename = f\"{filename.split('.')[0]}_Backup_{datetime.now().strftime('%Y%m%d_%H%M%S')}.txt\"\n",
    "        with open(filename, 'r') as file: #open original file in read mode\n",
    "            content = file.read()\n",
    "        with open(backup_filename, 'w') as backup_file: #open backup file in write mode\n",
    "            backup_file.write(content)\n",
    "        with open(filename, 'w') as file: #clear the original file content\n",
    "            file.write('')\n",
    "        print(f\" Room allocations backed up to {backup_filename} and original file cleared\")\n",
    "    except FileNotFoundError: #handle file not found error\n",
    "        print (\"File not found. Please save room allocations first\")\n",
    "    except IOError as e: #handle I/O errors\n",
    "        print (f\"Error: {e}\")\n",
    "\n",
    "#Main function to run the hotel management system \n",
    "def main():\n",
    "    rooms = [] #list stores room details \n",
    "    allocations = [] #list stores room allocation\n",
    "    filename = \"LHMS_Studentid.txt\" #filename to save allocations\n",
    "    backup_filename = \"LHMS_Studentid_Backup_Date_Time.txt\" #filename for backup\n",
    "\n",
    "    while True:\n",
    "        #Display menu options\n",
    "        print (\"\\nHotel Management System Menu\")\n",
    "        print (\"1. Add Room\")\n",
    "        print (\"2. Delete Room\")\n",
    "        print (\"3. Display Room Details\")\n",
    "        print (\"4. Allocate Room\")\n",
    "        print (\"5. Display Room Allocation Details\")\n",
    "        print (\"6. Billing and De-allocation\")\n",
    "        print (\"7. Save Room Allocations to File\")\n",
    "        print (\"8. Show Room Allocations from File\")\n",
    "        print (\"9. Backup Room Allocations File\")\n",
    "        print (\"0. Exit Application\")\n",
    "\n",
    "        choice = input(\"Enter your choice: \") #input for menu choice \n",
    "        try:\n",
    "            if choice == '1':\n",
    "                add_room(rooms)\n",
    "            elif choice == '2':\n",
    "                delete_room(rooms)\n",
    "            elif choice == '3':\n",
    "                display_rooms(rooms)\n",
    "            elif choice == '4':\n",
    "                allocate_room(rooms, allocations)\n",
    "            elif choice == '5':\n",
    "                display_allocation(allocations)\n",
    "            elif choice == '6':\n",
    "                bill_and_deallocate_room(allocations, rooms)\n",
    "            elif choice == '7':\n",
    "                save_allocation_to_file(filename, allocations)\n",
    "            elif choice == '8':\n",
    "                show_allocation_from_file(filename)\n",
    "            elif choice == '9':\n",
    "                backup_allocations_file(filename)\n",
    "            elif choice == '0':\n",
    "                print (\"Exiting application\")\n",
    "                break\n",
    "\n",
    "            else:\n",
    "                raise ValueError(\"Invalid Choice. Please try again\")\n",
    "        except ValueError as e: #handle value errors\n",
    "            print(f\"Error: {e}\")\n",
    "        except TypeError as e: #handle type errors\n",
    "            print(f\"Error: {e}\")\n",
    "        except ZeroDivisionError as e: #handle zero division errors\n",
    "            print(f\"Error: {e}\")\n",
    "        except OverFlowError as e: #handle overflow errors\n",
    "            print(f\"Error: {e}\")\n",
    "        except ImportError as e: #handle import errors\n",
    "            print(f\"Error: {e}\")\n",
    "        except EOFError as e: #handle EOF errors\n",
    "            print(f\"Error: {e}\")\n",
    "        except NameError as e: #handle name errors\n",
    "            print(f\"Error: {e}\")\n",
    "\n",
    "if __name__ == \"__main__\":\n",
    "    main()"
   ]
  },
  {
   "cell_type": "markdown",
   "id": "79f9d85d-58dc-479e-976a-7c422156533f",
   "metadata": {},
   "source": [
    "# Pseudocode"
   ]
  },
  {
   "cell_type": "raw",
   "id": "331c0c0c-3ebc-4261-ab7e-184095d9733c",
   "metadata": {},
   "source": [
    "FUNCTION add_room(rooms)\n",
    "    TRY\n",
    "        PROMPT \"Enter room ID: \"\n",
    "        STORE INPUT in room_id\n",
    "        PROMPT \"Enter room type(single/double/suite): \"\n",
    "        STORE INPUT in room_type\n",
    "        PROMPT \"Enter room price: \"\n",
    "        STORE INPUT in price\n",
    "        IF room_id IS EMPTY OR room_type IS EMPTY OR price IS EMPTY THEN\n",
    "            RAISE ValueError(\"All fields are required\")\n",
    "        IF price IS NOT A NUMBER THEN\n",
    "            RAISE ValueError(\"Price must be a number\")\n",
    "        CREATE room DICTIONARY WITH KEYS \"room_id\", \"room_type\", \"price\"\n",
    "        APPEND room TO rooms\n",
    "        PRINT \"Room added successfully\"\n",
    "    EXCEPT ValueError AS e\n",
    "        PRINT \"Error: \" + e.MESSAGE\n",
    "    EXCEPT SyntaxError AS e\n",
    "        PRINT \"Syntax Error: \" + e.MESSAGE\n",
    "END FUNCTION\n",
    "\n",
    "FUNCTION delete_room(rooms)\n",
    "    TRY\n",
    "        PROMPT \"Enter room ID to delete: \"\n",
    "        STORE INPUT in room_id\n",
    "        IF room_id IS EMPTY THEN\n",
    "            RAISE ValueError(\"Room ID is required\")\n",
    "        FOR EACH room IN rooms\n",
    "            IF room[\"room_id\"] IS EQUAL TO room_id THEN\n",
    "                REMOVE room FROM rooms\n",
    "                PRINT \"Room deleted successfully\"\n",
    "                RETURN\n",
    "        RAISE KeyError(\"Room not found\")\n",
    "    EXCEPT ValueError AS e\n",
    "        PRINT \"Error: \" + e.MESSAGE\n",
    "    EXCEPT KeyError AS e\n",
    "        PRINT \"Error: \" + e.MESSAGE\n",
    "    EXCEPT NameError AS e\n",
    "        PRINT \"Name Error: \" + e.MESSAGE\n",
    "END FUNCTION\n",
    "\n",
    "FUNCTION display_rooms(rooms)\n",
    "    TRY\n",
    "        IF rooms IS EMPTY THEN\n",
    "            RAISE IndexError(\"No rooms available\")\n",
    "        FOR EACH room IN rooms\n",
    "            PRINT \"Room ID: \" + room[\"room_id\"] + \", Type: \" + room[\"room_type\"] + \", Price: \" + room[\"price\"]\n",
    "    EXCEPT IndexError AS e\n",
    "        PRINT \"Error: \" + e.MESSAGE\n",
    "END FUNCTION\n",
    "\n",
    "FUNCTION allocate_room(rooms, allocations)\n",
    "    TRY\n",
    "        PROMPT \"Enter room ID to allocate: \"\n",
    "        STORE INPUT in room_id\n",
    "        PROMPT \"Enter customer name: \"\n",
    "        STORE INPUT in customer_name\n",
    "        PROMPT \"Enter check-in date (YYYY-MM-DD): \"\n",
    "        STORE INPUT in check_in_date\n",
    "        IF room_id IS EMPTY OR customer_name IS EMPTY OR check_in_date IS EMPTY THEN\n",
    "            RAISE ValueError(\"All fields are required\")\n",
    "        FOR EACH room IN rooms\n",
    "            IF room[\"room_id\"] IS EQUAL TO room_id THEN\n",
    "                FOR EACH allocation IN allocations\n",
    "                    IF allocation[\"room_id\"] IS EQUAL TO room_id THEN\n",
    "                        RAISE ValueError(\"Room already allocated\")\n",
    "                CREATE allocation DICTIONARY WITH KEYS \"room_id\", \"customer_name\", \"check_in_date\"\n",
    "                APPEND allocation TO allocations\n",
    "                PRINT \"Room allocated successfully\"\n",
    "                RETURN\n",
    "        RAISE KeyError(\"Room not found\")\n",
    "    EXCEPT ValueError AS e\n",
    "        PRINT \"Error: \" + e.MESSAGE\n",
    "    EXCEPT KeyError AS e\n",
    "        PRINT \"Error: \" + e.MESSAGE\n",
    "    EXCEPT SyntaxError AS e\n",
    "        PRINT \"Syntax Error: \" + e.MESSAGE\n",
    "END FUNCTION\n",
    "\n",
    "FUNCTION display_allocation(allocations)\n",
    "    TRY\n",
    "        IF allocations IS EMPTY THEN\n",
    "            RAISE IndexError(\"No room allocations available\")\n",
    "        FOR EACH allocation IN allocations\n",
    "            PRINT \"Room ID: \" + allocation[\"room_id\"] + \", Customer Name: \" + allocation[\"customer_name\"]\n",
    "    EXCEPT IndexError AS e\n",
    "        PRINT \"Error: \" + e.MESSAGE\n",
    "END FUNCTION\n",
    "\n",
    "FUNCTION bill_and_deallocate_room(allocations, rooms)\n",
    "    TRY\n",
    "        PROMPT \"Enter room ID to de-allocate: \"\n",
    "        STORE INPUT in room_id\n",
    "        PROMPT \"Enter check-out date (YYYY-MM-DD): \"\n",
    "        STORE INPUT in check_out_date\n",
    "        IF room_id IS EMPTY OR check_out_date IS EMPTY THEN\n",
    "            RAISE ValueError(\"Room ID and Check-out date are required\")\n",
    "        FOR EACH allocation IN allocations\n",
    "            IF allocation[\"room_id\"] IS EQUAL TO room_id THEN\n",
    "                PARSE allocation[\"check_in_date\"] AS DATE AND STORE IN check_in_date\n",
    "                PARSE check_out_date AS DATE AND STORE IN check_out_date\n",
    "                CALCULATE (check_out_date - check_in_date).days AND STORE IN duration\n",
    "                FOR EACH room IN rooms\n",
    "                    IF room[\"room_id\"] IS EQUAL TO room_id THEN\n",
    "                        CALCULATE duration * room[\"price\"] AND STORE IN total_cost\n",
    "                        PRINT \"Billing Details: \"\n",
    "                        PRINT \"Customer Name: \" + allocation[\"customer_name\"]\n",
    "                        PRINT \"Room ID: \" + room_id\n",
    "                        PRINT \"Check-in Date: \" + allocation[\"check_in_date\"]\n",
    "                        PRINT \"Check-out Date: \" + check_out_date.FORMAT(\"YYYY-MM-DD\")\n",
    "                        PRINT \"Total Stay Duration: \" + duration + \" days\"\n",
    "                        PRINT \"Total Cost: $\" + total_cost.FORMAT(\".2f\")\n",
    "                        REMOVE allocation FROM allocations\n",
    "                        PRINT \"Room de-allocated and billing done successfully\"\n",
    "                        RETURN\n",
    "        RAISE KeyError(\"Room not found\")\n",
    "    EXCEPT ValueError AS e\n",
    "        PRINT \"Error: \" + e.MESSAGE\n",
    "    EXCEPT KeyError AS e\n",
    "        PRINT \"Error: \" + e.MESSAGE\n",
    "    EXCEPT OverflowError AS e\n",
    "        PRINT \"Error: \" + e.MESSAGE\n",
    "    EXCEPT IndexError AS e\n",
    "        PRINT \"Error: \" + e.MESSAGE\n",
    "END FUNCTION\n",
    "\n",
    "FUNCTION save_allocation_to_file(filename, allocations)\n",
    "    TRY\n",
    "        OPEN filename FOR WRITING\n",
    "        FOR EACH allocation IN allocations\n",
    "            WRITE allocation[\"room_id\"] + \",\" + allocation[\"customer_name\"] + \",\" + allocation[\"check_in_date\"] TO file\n",
    "        PRINT \"Room allocations saved to file successfully\"\n",
    "    EXCEPT IOError AS e\n",
    "        PRINT \"Error: \" + e.MESSAGE\n",
    "END FUNCTION\n",
    "\n",
    "FUNCTION show_allocation_from_file(filename)\n",
    "    TRY\n",
    "        OPEN filename FOR READING\n",
    "        STORE READ LINES FROM file IN records\n",
    "        IF records IS EMPTY THEN\n",
    "            RAISE LookupError(\"No room allocation available in the file\")\n",
    "        FOR EACH record IN records\n",
    "            SPLIT record BY \",\" AND STORE IN room_id, customer_name, check_in_date\n",
    "            PRINT \"Room ID: \" + room_id + \", Customer Name: \" + customer_name + \", Check-in Date: \" + check_in_date\n",
    "    EXCEPT FileNotFoundError\n",
    "        PRINT \"File not found. Save room allocations first\"\n",
    "    EXCEPT LookupError AS e\n",
    "        PRINT \"Error: \" + e.MESSAGE\n",
    "    EXCEPT IOError AS e\n",
    "        PRINT \"Error: \" + e.MESSAGE\n",
    "END FUNCTION\n",
    "\n",
    "FUNCTION backup_allocations_file(filename)\n",
    "    TRY\n",
    "        CREATE backup_filename USING filename AND TIMESTAMP\n",
    "        OPEN filename FOR READING\n",
    "        STORE CONTENT FROM file IN content\n",
    "        OPEN backup_filename FOR WRITING\n",
    "        WRITE content TO backup_file\n",
    "        CLEAR CONTENT OF filename\n",
    "        PRINT \"Room allocations backed up to \" + backup_filename + \" and original file cleared\"\n",
    "    EXCEPT FileNotFoundError\n",
    "        PRINT \"File not found. Please save room allocations first\"\n",
    "    EXCEPT IOError AS e\n",
    "        PRINT \"Error: \" + e.MESSAGE\n",
    "END FUNCTION\n",
    "\n",
    "FUNCTION main()\n",
    "    INITIALIZE rooms AS EMPTY LIST\n",
    "    INITIALIZE allocations AS EMPTY LIST\n",
    "    SET filename TO \"LHMS_Studentid.txt\"\n",
    "    SET backup_filename TO \"LHMS_Studentid_Backup_Date_Time.txt\"\n",
    "\n",
    "    WHILE True\n",
    "        PRINT \"Hotel Management System Menu\"\n",
    "        PRINT \"1. Add Room\"\n",
    "        PRINT \"2. Delete Room\"\n",
    "        PRINT \"3. Display Room Details\"\n",
    "        PRINT \"4. Allocate Room\"\n",
    "        PRINT \"5. Display Room Allocation Details\"\n",
    "        PRINT \"6. Billing and De-allocation\"\n",
    "        PRINT \"7. Save Room Allocations to File\"\n",
    "        PRINT \"8. Show Room Allocations from File\"\n",
    "        PRINT \"9. Backup Room Allocations File\"\n",
    "        PRINT \"0. Exit Application\"\n",
    "        PROMPT \"Enter your choice: \"\n",
    "        STORE INPUT in choice\n",
    "        TRY\n",
    "            IF choice IS '1' THEN\n",
    "                CALL add_room(rooms)\n",
    "            ELSE IF choice IS '2' THEN\n",
    "                CALL delete_room(rooms)\n",
    "            ELSE IF choice IS '3' THEN\n",
    "                CALL display_rooms(rooms)\n",
    "            ELSE IF choice IS '4' THEN\n",
    "                CALL allocate_room(rooms, allocations)\n",
    "            ELSE IF choice IS '5' THEN\n",
    "                CALL display_allocation(allocations)\n",
    "            ELSE IF choice IS '6' THEN\n",
    "                CALL bill_and_deallocate_room(allocations, rooms)\n",
    "            ELSE IF choice IS '7' THEN\n",
    "                CALL save_allocation_to_file(filename, allocations)\n",
    "            ELSE IF choice IS '8' THEN\n",
    "                CALL show_allocation_from_file(filename)\n",
    "            ELSE IF choice IS '9' THEN\n",
    "                CALL backup_allocations_file(filename)\n",
    "            ELSE IF choice IS '0' THEN\n",
    "                PRINT \"Exiting application\"\n",
    "                BREAK\n",
    "            ELSE\n",
    "                RAISE ValueError(\"Invalid Choice. Please try again\")\n",
    "        EXCEPT ValueError AS e\n",
    "            PRINT \"Error: \" + e.MESSAGE\n",
    "        EXCEPT TypeError AS e\n",
    "            PRINT \"Error: \" + e.MESSAGE\n",
    "        EXCEPT ZeroDivisionError AS e\n",
    "            PRINT \"Error: \" + e.MESSAGE\n",
    "        EXCEPT OverflowError AS e\n",
    "            PRINT \"Error: \" + e.MESSAGE\n",
    "        EXCEPT ImportError AS e\n",
    "            PRINT \"Error: \" + e.MESSAGE\n",
    "        EXCEPT EOFError AS e\n",
    "            PRINT \"Error: \" + e.MESSAGE\n",
    "        EXCEPT NameError AS e\n",
    "            PRINT \"Error: \" + e.MESSAGE\n",
    "END FUNCTION\n",
    "\n",
    "CALL main() IF__name__ == \"__main__\""
   ]
  },
  {
   "cell_type": "code",
   "execution_count": 1,
   "id": "22deed47-fac5-40c0-b490-9369e9ddeb78",
   "metadata": {},
   "outputs": [
    {
     "ename": "ZeroDivisionError",
     "evalue": "division by zero",
     "output_type": "error",
     "traceback": [
      "\u001b[1;31m---------------------------------------------------------------------------\u001b[0m",
      "\u001b[1;31mZeroDivisionError\u001b[0m                         Traceback (most recent call last)",
      "Cell \u001b[1;32mIn[1], line 4\u001b[0m\n\u001b[0;32m      2\u001b[0m a \u001b[38;5;241m=\u001b[39m\u001b[38;5;241m10\u001b[39m\n\u001b[0;32m      3\u001b[0m b \u001b[38;5;241m=\u001b[39m \u001b[38;5;241m0\u001b[39m\n\u001b[1;32m----> 4\u001b[0m c\u001b[38;5;241m=\u001b[39ma\u001b[38;5;241m/\u001b[39mb\n",
      "\u001b[1;31mZeroDivisionError\u001b[0m: division by zero"
     ]
    }
   ],
   "source": [
    "#code with a zero division error\n",
    "a =10\n",
    "b = 0\n",
    "c=a/b"
   ]
  },
  {
   "cell_type": "code",
   "execution_count": 2,
   "id": "0ba08f0d-0988-4aa6-b6a0-3f7f9a7670f2",
   "metadata": {},
   "outputs": [
    {
     "ename": "SyntaxError",
     "evalue": "expected ':' (2546223243.py, line 2)",
     "output_type": "error",
     "traceback": [
      "\u001b[1;36m  Cell \u001b[1;32mIn[2], line 2\u001b[1;36m\u001b[0m\n\u001b[1;33m    def greet(name)\u001b[0m\n\u001b[1;37m                   ^\u001b[0m\n\u001b[1;31mSyntaxError\u001b[0m\u001b[1;31m:\u001b[0m expected ':'\n"
     ]
    }
   ],
   "source": [
    "#code with a syntax error\n",
    "def greet(name)\n",
    "    print(\"Hello,\" + name)"
   ]
  },
  {
   "cell_type": "code",
   "execution_count": 3,
   "id": "8983d8d7-9f79-4795-902c-11c82845f4b4",
   "metadata": {},
   "outputs": [
    {
     "ename": "NameError",
     "evalue": "name 'message' is not defined",
     "output_type": "error",
     "traceback": [
      "\u001b[1;31m---------------------------------------------------------------------------\u001b[0m",
      "\u001b[1;31mNameError\u001b[0m                                 Traceback (most recent call last)",
      "Cell \u001b[1;32mIn[3], line 2\u001b[0m\n\u001b[0;32m      1\u001b[0m \u001b[38;5;66;03m#code with name error\u001b[39;00m\n\u001b[1;32m----> 2\u001b[0m \u001b[38;5;28mprint\u001b[39m(message)\n",
      "\u001b[1;31mNameError\u001b[0m: name 'message' is not defined"
     ]
    }
   ],
   "source": [
    "#code with name error\n",
    "print(message)"
   ]
  },
  {
   "cell_type": "code",
   "execution_count": 4,
   "id": "43094219-93dd-4401-98a2-594bb693ca85",
   "metadata": {},
   "outputs": [
    {
     "ename": "OverflowError",
     "evalue": "math range error",
     "output_type": "error",
     "traceback": [
      "\u001b[1;31m---------------------------------------------------------------------------\u001b[0m",
      "\u001b[1;31mOverflowError\u001b[0m                             Traceback (most recent call last)",
      "Cell \u001b[1;32mIn[4], line 3\u001b[0m\n\u001b[0;32m      1\u001b[0m \u001b[38;5;66;03m#code with overflow error\u001b[39;00m\n\u001b[0;32m      2\u001b[0m \u001b[38;5;28;01mimport\u001b[39;00m \u001b[38;5;21;01mmath\u001b[39;00m\n\u001b[1;32m----> 3\u001b[0m \u001b[38;5;28mprint\u001b[39m(math\u001b[38;5;241m.\u001b[39mexp(\u001b[38;5;241m1000\u001b[39m))\n",
      "\u001b[1;31mOverflowError\u001b[0m: math range error"
     ]
    }
   ],
   "source": [
    "#code with overflow error\n",
    "import math\n",
    "print(math.exp(1000))"
   ]
  },
  {
   "cell_type": "code",
   "execution_count": 5,
   "id": "5ec1f846-1252-4c83-9ae8-7b75b726d58e",
   "metadata": {},
   "outputs": [
    {
     "ename": "TypeError",
     "evalue": "can only concatenate str (not \"int\") to str",
     "output_type": "error",
     "traceback": [
      "\u001b[1;31m---------------------------------------------------------------------------\u001b[0m",
      "\u001b[1;31mTypeError\u001b[0m                                 Traceback (most recent call last)",
      "Cell \u001b[1;32mIn[5], line 4\u001b[0m\n\u001b[0;32m      2\u001b[0m x \u001b[38;5;241m=\u001b[39m \u001b[38;5;124m\"\u001b[39m\u001b[38;5;124mHello\u001b[39m\u001b[38;5;124m\"\u001b[39m\n\u001b[0;32m      3\u001b[0m y \u001b[38;5;241m=\u001b[39m \u001b[38;5;241m5\u001b[39m\n\u001b[1;32m----> 4\u001b[0m \u001b[38;5;28mprint\u001b[39m (x\u001b[38;5;241m+\u001b[39my)\n",
      "\u001b[1;31mTypeError\u001b[0m: can only concatenate str (not \"int\") to str"
     ]
    }
   ],
   "source": [
    "#code with a type error\n",
    "x = \"Hello\"\n",
    "y = 5\n",
    "print (x+y)"
   ]
  },
  {
   "cell_type": "code",
   "execution_count": 8,
   "id": "791ab58a-d5d3-4fd6-be14-8eee9d625793",
   "metadata": {},
   "outputs": [
    {
     "ename": "ModuleNotFoundError",
     "evalue": "No module named 'my_book'",
     "output_type": "error",
     "traceback": [
      "\u001b[1;31m---------------------------------------------------------------------------\u001b[0m",
      "\u001b[1;31mModuleNotFoundError\u001b[0m                       Traceback (most recent call last)",
      "Cell \u001b[1;32mIn[8], line 2\u001b[0m\n\u001b[0;32m      1\u001b[0m \u001b[38;5;66;03m#code with import error\u001b[39;00m\n\u001b[1;32m----> 2\u001b[0m \u001b[38;5;28;01mfrom\u001b[39;00m \u001b[38;5;21;01mmy_book\u001b[39;00m \u001b[38;5;28;01mimport\u001b[39;00m no_function\n\u001b[0;32m      3\u001b[0m \u001b[38;5;28mprint\u001b[39m(\u001b[38;5;124m\"\u001b[39m\u001b[38;5;124mwon\u001b[39m\u001b[38;5;124m'\u001b[39m\u001b[38;5;124mt be executed\u001b[39m\u001b[38;5;124m\"\u001b[39m)\n",
      "\u001b[1;31mModuleNotFoundError\u001b[0m: No module named 'my_book'"
     ]
    }
   ],
   "source": [
    "#code with import error\n",
    "from my_book import no_function\n",
    "print(\"won't be executed\")"
   ]
  },
  {
   "cell_type": "code",
   "execution_count": 9,
   "id": "d223248d-ee71-44e4-897b-c7aee976db20",
   "metadata": {},
   "outputs": [
    {
     "name": "stdin",
     "output_type": "stream",
     "text": [
      "your name:  kabi\n"
     ]
    },
    {
     "data": {
      "text/plain": [
       "'kabi'"
      ]
     },
     "execution_count": 9,
     "metadata": {},
     "output_type": "execute_result"
    }
   ],
   "source": [
    "#code with EOF error\n",
    "input(\"your name: \")"
   ]
  },
  {
   "cell_type": "code",
   "execution_count": null,
   "id": "0c0b664e-def0-4581-9310-6d39067de387",
   "metadata": {},
   "outputs": [],
   "source": []
  }
 ],
 "metadata": {
  "kernelspec": {
   "display_name": "Python 3 (ipykernel)",
   "language": "python",
   "name": "python3"
  },
  "language_info": {
   "codemirror_mode": {
    "name": "ipython",
    "version": 3
   },
   "file_extension": ".py",
   "mimetype": "text/x-python",
   "name": "python",
   "nbconvert_exporter": "python",
   "pygments_lexer": "ipython3",
   "version": "3.11.7"
  }
 },
 "nbformat": 4,
 "nbformat_minor": 5
}
